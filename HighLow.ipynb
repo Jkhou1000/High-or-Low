{
 "cells": [
  {
   "cell_type": "code",
   "execution_count": 1,
   "metadata": {},
   "outputs": [],
   "source": [
    "import random"
   ]
  },
  {
   "cell_type": "code",
   "execution_count": 6,
   "metadata": {},
   "outputs": [
    {
     "name": "stdout",
     "output_type": "stream",
     "text": [
      "Lower\n",
      "Lower\n",
      "Lower\n",
      "Correct\n"
     ]
    }
   ],
   "source": [
    "num = random.randrange(1,10)\n",
    "x = num\n",
    "playing = True\n",
    "\n",
    "while playing:\n",
    "    y=int(input())\n",
    "    if y < num:\n",
    "        print('Higher')\n",
    "    if y > num:\n",
    "        print('Lower')\n",
    "    if y == num:\n",
    "        print('Correct')\n",
    "        playing = False\n",
    "\n",
    "    "
   ]
  },
  {
   "cell_type": "code",
   "execution_count": null,
   "metadata": {},
   "outputs": [],
   "source": []
  }
 ],
 "metadata": {
  "kernelspec": {
   "display_name": "Python 3.9.12 ('base')",
   "language": "python",
   "name": "python3"
  },
  "language_info": {
   "codemirror_mode": {
    "name": "ipython",
    "version": 3
   },
   "file_extension": ".py",
   "mimetype": "text/x-python",
   "name": "python",
   "nbconvert_exporter": "python",
   "pygments_lexer": "ipython3",
   "version": "3.9.12"
  },
  "orig_nbformat": 4,
  "vscode": {
   "interpreter": {
    "hash": "d5f23502d679d81f2660466b90b67a16a2706e77a7b0217a026694a84deef0f9"
   }
  }
 },
 "nbformat": 4,
 "nbformat_minor": 2
}
